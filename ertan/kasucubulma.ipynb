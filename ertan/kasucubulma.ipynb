{
 "cells": [
  {
   "cell_type": "code",
   "execution_count": null,
   "metadata": {},
   "outputs": [],
   "source": [
    "\n",
    "import pydicom\n",
    "import nibabel as nib\n",
    "import numpy as np\n",
    "import matplotlib.pyplot as plt\n",
    "\n",
    "\n",
    "imgs = pydicom.dcmread('C:/Users/yeni/Desktop/ımages/hasta_no/RMLO.dcm').pixel_array\n",
    "masks = nib.load('C:/Users/yeni/Desktop/masks/hasta_no/RMLO.nii.gz').get_fdata()\n",
    "\n",
    "imgs=np.invert(imgs)\n",
    "imgs = ((imgs - imgs.min()) * (1/(imgs.max() - imgs.min()) * 255)).astype('uint8')\n",
    "\n",
    "masks = masks[:,:,0]\n",
    "masks[masks==1]=0\n",
    "masks[masks==3]=0\n",
    "masks[masks==2]=1\n",
    "\n",
    "masks = np.flip(masks)\n",
    "masks = np.rot90(masks)\n",
    "masks = np.fliplr(masks)\n",
    "\n",
    "rslt = masks * imgs\n",
    "\n",
    "\n",
    "# Find the bounding box of the nonzero pixels in the mask\n",
    "rows, cols = np.where(masks != 0)\n",
    "y1, x1 = np.min(rows), np.min(cols)\n",
    "y2, x2 = np.max(rows), np.max(cols)\n",
    "\n",
    "# Crop the image to the bounding box\n",
    "result = rslt[y1:y2+1, x1:x2+1]\n",
    "\n",
    "\n",
    "plt.subplot(1, 3, 1)\n",
    "plt.imshow(imgs, cmap=\"gray\")\n",
    "plt.title(\"Orjinal .dcm Görüntüsü\")\n",
    "plt.subplot(1, 3, 2)\n",
    "plt.imshow(rslt, cmap=\"gray\")\n",
    "plt.title(\"Kesilmiş Görüntü\")\n",
    "plt.subplot(1, 3, 3)\n",
    "plt.imshow(result, cmap=\"gray\")\n",
    "plt.title(\"Maskenin Beyaz Alanlarını Kesme ve İnvert Etme\")\n",
    "plt.show()\n"
   ]
  },
  {
   "cell_type": "code",
   "execution_count": 38,
   "metadata": {},
   "outputs": [
    {
     "name": "stdout",
     "output_type": "stream",
     "text": [
      "1801\n"
     ]
    }
   ],
   "source": [
    "result[1500][600]\n",
    "height,width =result.shape\n",
    "a=0\n",
    "\n",
    "for i in range(1,height-10,50):\n",
    "    if(result[i,width-5]!=0.0):\n",
    "        break\n",
    "\n",
    "print(i)\n"
   ]
  },
  {
   "cell_type": "code",
   "execution_count": 36,
   "metadata": {},
   "outputs": [
    {
     "name": "stdout",
     "output_type": "stream",
     "text": [
      "0.0\n",
      "0.0\n",
      "0.0\n",
      "0.0\n",
      "0.0\n",
      "0.0\n",
      "0.0\n",
      "0.0\n",
      "0.0\n",
      "0.0\n",
      "0.0\n",
      "0.0\n",
      "0.0\n",
      "0.0\n",
      "0.0\n",
      "0.0\n",
      "14.0\n"
     ]
    }
   ],
   "source": [
    "result[1800,width-5]\n",
    "i=0\n",
    "for i in range(1000,1850,50):\n",
    "    print(result[i,width-5])\n"
   ]
  },
  {
   "cell_type": "code",
   "execution_count": null,
   "metadata": {},
   "outputs": [],
   "source": [
    "def find_last_i(result):\n",
    "    height, width = result.shape\n",
    "    for i in range(1, height-10, 50):\n",
    "        if result[i, width-5] != 0.0:\n",
    "            break\n",
    "    return i"
   ]
  }
 ],
 "metadata": {
  "kernelspec": {
   "display_name": "Python 3",
   "language": "python",
   "name": "python3"
  },
  "language_info": {
   "codemirror_mode": {
    "name": "ipython",
    "version": 3
   },
   "file_extension": ".py",
   "mimetype": "text/x-python",
   "name": "python",
   "nbconvert_exporter": "python",
   "pygments_lexer": "ipython3",
   "version": "3.10.5"
  },
  "orig_nbformat": 4
 },
 "nbformat": 4,
 "nbformat_minor": 2
}
