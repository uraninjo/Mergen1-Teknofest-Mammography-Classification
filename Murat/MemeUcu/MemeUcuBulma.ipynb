{
 "cells": [
  {
   "attachments": {},
   "cell_type": "markdown",
   "metadata": {},
   "source": [
    "## Meme Ucu Bulma\n",
    "\n",
    "Bu işlemdeki yaklaşımımız,\n",
    "\n",
    "* Segmentasyon modelinden çıkan meme ucu maskesinin orta noktasını tespit etme\n",
    "* Segmentasyondan sonra memenin çıkan en büyük kontörünü aldığımızdaki en uç noktayı bulmak\n",
    "\n",
    "İki işlem de kadranı belirleme için yapılmıştır. Amaç memenin orta başlangıç noktasından meme ucuna çizilen çizginin bizim için bir kadran ayırıcı görevi görmesidir.\n",
    "\n",
    "**Bu işlemler daha sonra KadranÖzel dosyasına taşınmıştır...**"
   ]
  },
  {
   "cell_type": "code",
   "execution_count": 76,
   "metadata": {},
   "outputs": [],
   "source": [
    "import cv2\n",
    "import numpy as np\n",
    "\n",
    "def find_white_pixels(img):\n",
    "    # Siyah beyaz görüntüyü yükleme\n",
    "    gray_img = cv2.imread(img, cv2.IMREAD_GRAYSCALE)\n",
    "\n",
    "    # Beyaz piksellerin konumlarını bulma\n",
    "    white_pixels = np.where(gray_img == 255)\n",
    "\n",
    "    # Pikselleri listeye ekleme\n",
    "    pixel_list = list(zip(white_pixels[0], white_pixels[1]))\n",
    "\n",
    "    # Toplu olarak duran beyaz piksellerin orta noktasını bulma\n",
    "    if len(pixel_list) > 0:\n",
    "        x_coords, y_coords = zip(*pixel_list)\n",
    "        x_mean = int(np.mean(x_coords))\n",
    "        y_mean = int(np.mean(y_coords))\n",
    "        center_point = (y_mean, x_mean)\n",
    "        return pixel_list, center_point\n",
    "    else:\n",
    "        return [], None\n"
   ]
  },
  {
   "cell_type": "code",
   "execution_count": null,
   "metadata": {},
   "outputs": [],
   "source": [
    "import pydicom\n",
    "import nibabel as nib\n",
    "import numpy as np\n",
    "import matplotlib.pyplot as plt\n",
    "import cv2\n",
    "image_path=\"../data/images/Ertan/hasta_no/LMLO.dcm\"\n",
    "mask_path=\"../data/masks/Ertan/hasta_no/LMLO.nii.gz\"\n",
    "imgs = pydicom.dcmread(image_path).pixel_array\n",
    "masks = nib.load(mask_path).get_fdata()\n",
    "\n",
    "# Maskeyi işleme\n",
    "masks = masks[:,:,0]\n",
    "masks[masks==1]=0\n",
    "masks[masks==2]=0\n",
    "masks = np.flip(masks)\n",
    "masks = np.rot90(masks)\n",
    "masks = np.fliplr(masks)\n",
    "imgs=np.invert(imgs)\n",
    "\n",
    "plt.imsave(\"mask.png\",masks,cmap=\"gray\")\n",
    "plt.subplot(1, 3, 1)\n",
    "plt.imshow(imgs, cmap=\"gray\")\n",
    "plt.title(\"Orjinal .dcm Görüntüsü\")\n",
    "plt.subplot(1, 3, 2)\n",
    "plt.imshow(masks, cmap=\"gray\")\n",
    "plt.title(\"Kesilmiş Görüntü\")\n",
    "\n",
    "plt.show()"
   ]
  },
  {
   "cell_type": "code",
   "execution_count": 79,
   "metadata": {},
   "outputs": [
    {
     "data": {
      "image/png": "[encoded data removed]",
      "text/plain": [
       "<Figure size 640x480 with 1 Axes>"
      ]
     },
     "metadata": {},
     "output_type": "display_data"
    }
   ],
   "source": [
    "# Siyah beyaz görüntüyü yükleme\n",
    "PATH='mask.png'\n",
    "img = cv2.imread(PATH, cv2.IMREAD_GRAYSCALE)\n",
    "\n",
    "# Beyaz piksellerin konumlarını bulma\n",
    "pixel_list, center_point = find_white_pixels(PATH)\n",
    "\n",
    "# Görüntüyü çizme\n",
    "plt.imshow(img, cmap='gray')\n",
    "\n",
    "# Beyaz piksellerin koordinatlarını beyaz noktalara çevirme ve çizme\n",
    "if len(pixel_list) > 0:\n",
    "    x_coords, y_coords = zip(*pixel_list)\n",
    "    plt.plot(y_coords, x_coords, 'wo')\n",
    "\n",
    "# Beyaz noktaların ortasına küçük bir daire çizme ve çizme\n",
    "if center_point:\n",
    "    plt.plot(center_point[0],center_point[1], 'ro', markersize=2)\n",
    "\n",
    "# Görüntüyü gösterme\n",
    "plt.show()\n"
   ]
  },
  {
   "cell_type": "code",
   "execution_count": 10,
   "metadata": {},
   "outputs": [
    {
     "data": {
      "text/plain": [
       "True"
      ]
     },
     "execution_count": 10,
     "metadata": {},
     "output_type": "execute_result"
    }
   ],
   "source": [
    "#Dairenin merkezini bulma\n",
    "\n",
    "import cv2\n",
    "import numpy as np\n",
    "\n",
    "# Siyah bir arkaplan oluşturma\n",
    "height, width = 512, 512\n",
    "img = np.zeros((height, width), dtype=np.uint8)\n",
    "\n",
    "# Beyaz bir daire çizme\n",
    "center = (int(width/2), int(height/2))\n",
    "radius = 5\n",
    "color = (255, 255, 255)\n",
    "thickness = -1\n",
    "img = cv2.circle(img, center, radius, color, thickness)\n",
    "cv2.imwrite(\"beyaz_daire.png\", img)"
   ]
  },
  {
   "cell_type": "code",
   "execution_count": 12,
   "metadata": {},
   "outputs": [
    {
     "data": {
      "image/png": "[encoded data removed]",
      "text/plain": [
       "<Figure size 640x480 with 1 Axes>"
      ]
     },
     "metadata": {},
     "output_type": "display_data"
    }
   ],
   "source": [
    "import cv2\n",
    "import numpy as np\n",
    "import matplotlib.pyplot as plt\n",
    "\n",
    "# Siyah beyaz görüntüyü yükleme\n",
    "PATH='beyaz_daire.png'\n",
    "img = cv2.imread(PATH, cv2.IMREAD_GRAYSCALE)\n",
    "\n",
    "# Beyaz piksellerin konumlarını bulma\n",
    "pixel_list, center_point = find_white_pixels(PATH)\n",
    "\n",
    "# Görüntüyü çizme\n",
    "plt.imshow(img, cmap='gray')\n",
    "\n",
    "# Beyaz piksellerin koordinatlarını beyaz noktalara çevirme ve çizme\n",
    "if len(pixel_list) > 0:\n",
    "    x_coords, y_coords = zip(*pixel_list)\n",
    "    plt.plot(y_coords, x_coords, 'wo')\n",
    "\n",
    "# Beyaz noktaların ortasına küçük bir daire çizme ve çizme\n",
    "if center_point:\n",
    "    plt.plot(center_point[1], center_point[0], 'ro', markersize=2)\n",
    "\n",
    "# Görüntüyü gösterme\n",
    "plt.show()\n"
   ]
  },
  {
   "cell_type": "code",
   "execution_count": 22,
   "metadata": {},
   "outputs": [
    {
     "data": {
      "text/plain": [
       "True"
      ]
     },
     "execution_count": 22,
     "metadata": {},
     "output_type": "execute_result"
    }
   ],
   "source": [
    "import cv2\n",
    "import numpy as np\n",
    "\n",
    "# Siyah bir arkaplan oluşturma\n",
    "height, width = 512, 512\n",
    "img = np.zeros((height, width), dtype=np.uint8)\n",
    "\n",
    "# Yaklaşık olarak bir daire şeklinde beyaz piksellerin konumlarını oluşturma\n",
    "center = (int(width/2), int(height/2))\n",
    "radius = 1\n",
    "points = []\n",
    "for i in range(10):\n",
    "    angle = np.deg2rad(i)\n",
    "    x = center[0] + int(radius * np.cos(angle)) + np.random.randint(-10, 10)\n",
    "    y = center[1] + int(radius * np.sin(angle)) + np.random.randint(-10, 10)\n",
    "    points.append((x, y))\n",
    "\n",
    "# Beyaz pikselleri çizme\n",
    "for point in points:\n",
    "    img[point[1], point[0]] = 255\n",
    "\n",
    "cv2.imwrite(\"beyaz_pikseller.png\", img)\n"
   ]
  },
  {
   "cell_type": "code",
   "execution_count": 23,
   "metadata": {},
   "outputs": [
    {
     "data": {
      "image/png": "[encoded data removed]",
      "text/plain": [
       "<Figure size 640x480 with 1 Axes>"
      ]
     },
     "metadata": {},
     "output_type": "display_data"
    }
   ],
   "source": [
    "import cv2\n",
    "import numpy as np\n",
    "import matplotlib.pyplot as plt\n",
    "\n",
    "# Siyah beyaz görüntüyü yükleme\n",
    "PATH='beyaz_pikseller.png'\n",
    "img = cv2.imread(PATH, cv2.IMREAD_GRAYSCALE)\n",
    "\n",
    "# Beyaz piksellerin konumlarını bulma\n",
    "pixel_list, center_point = find_white_pixels(PATH)\n",
    "\n",
    "# Görüntüyü çizme\n",
    "plt.imshow(img, cmap='gray')\n",
    "\n",
    "# Beyaz piksellerin koordinatlarını beyaz noktalara çevirme ve çizme\n",
    "if len(pixel_list) > 0:\n",
    "    x_coords, y_coords = zip(*pixel_list)\n",
    "    plt.plot(y_coords, x_coords, 'wo')\n",
    "\n",
    "# Beyaz noktaların ortasına küçük bir daire çizme ve çizme\n",
    "if center_point:\n",
    "    plt.plot(center_point[1], center_point[0], 'ro', markersize=2)\n",
    "\n",
    "# Görüntüyü gösterme\n",
    "plt.show()\n"
   ]
  },
  {
   "cell_type": "code",
   "execution_count": null,
   "metadata": {},
   "outputs": [],
   "source": []
  }
 ],
 "metadata": {
  "kernelspec": {
   "display_name": "Python 3",
   "language": "python",
   "name": "python3"
  },
  "language_info": {
   "codemirror_mode": {
    "name": "ipython",
    "version": 3
   },
   "file_extension": ".py",
   "mimetype": "text/x-python",
   "name": "python",
   "nbconvert_exporter": "python",
   "pygments_lexer": "ipython3",
   "version": "3.8.10"
  },
  "orig_nbformat": 4
 },
 "nbformat": 4,
 "nbformat_minor": 2
}
