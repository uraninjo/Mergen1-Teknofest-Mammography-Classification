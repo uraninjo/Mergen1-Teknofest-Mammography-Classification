{
 "cells": [
  {
   "attachments": {},
   "cell_type": "markdown",
   "metadata": {},
   "source": [
    "## Kompozisyon Verilerini Sınıflara Ayırma"
   ]
  },
  {
   "cell_type": "code",
   "execution_count": 3,
   "metadata": {},
   "outputs": [
    {
     "data": {
      "text/plain": [
       "15791"
      ]
     },
     "execution_count": 3,
     "metadata": {},
     "output_type": "execute_result"
    }
   ],
   "source": [
    "import glob\n",
    "import pandas as pd\n",
    "import numpy as np\n",
    "import shutil\n",
    "import uuid\n",
    "import os\n",
    "\n",
    "data=pd.read_excel(\"/home/uraninjo/Desktop/Çalışmalar/Mergen1-Teknofest/Murat/TestPipeline/veribilgisi_31_01_23.xlsx\")\n",
    "# /home/uraninjo/Desktop/Çalışmalar/Mergen1-Teknofest/Murat/veribilgisi.xlsx\n",
    "\n",
    "l=glob.glob(f'/home/uraninjo/Desktop/Çalışmalar/Teknofest_Version1_Segmentation_Output/*/*.png')\n",
    "len(l)"
   ]
  },
  {
   "cell_type": "code",
   "execution_count": 4,
   "metadata": {},
   "outputs": [],
   "source": [
    "try:\n",
    "    os.mkdir(\"/home/uraninjo/Desktop/Çalışmalar/Mergen1-Teknofest/Murat/KompozisyonPosta1\")\n",
    "except:\n",
    "    print(\"already created\")\n",
    "try:\n",
    "    os.mkdir(\"/home/uraninjo/Desktop/Çalışmalar/Mergen1-Teknofest/Murat/KompozisyonPosta1/A\")\n",
    "    os.mkdir(\"/home/uraninjo/Desktop/Çalışmalar/Mergen1-Teknofest/Murat/KompozisyonPosta1/B\")\n",
    "    os.mkdir(\"/home/uraninjo/Desktop/Çalışmalar/Mergen1-Teknofest/Murat/KompozisyonPosta1/C\")\n",
    "    os.mkdir(\"/home/uraninjo/Desktop/Çalışmalar/Mergen1-Teknofest/Murat/KompozisyonPosta1/D\")\n",
    "except:\n",
    "    print(\"already created folders\")\n",
    "for path in l:\n",
    "    hno=path.split('/')[-2]\n",
    "    kom = data['MEME KOMPOZİSYONU'][data['HASTANO'] == int(hno)].values[0]\n",
    "    durum=data[data.HASTANO==int(hno)]\n",
    "    if (kom=='A' or kom=='B' or kom=='C' or kom=='D'):\n",
    "        try:\n",
    "            new_file_name = f'{hno}-{uuid.uuid4()}.png'\n",
    "            destination_path = f'/home/uraninjo/Desktop/Çalışmalar/Mergen1-Teknofest/Murat/KompozisyonPosta1/{kom}/{new_file_name}'\n",
    "            shutil.copy(path, destination_path)\n",
    "                \n",
    "        except Exception as e:\n",
    "            print(e)  \n"
   ]
  },
  {
   "cell_type": "code",
   "execution_count": null,
   "metadata": {},
   "outputs": [],
   "source": []
  }
 ],
 "metadata": {
  "kernelspec": {
   "display_name": "Python 3",
   "language": "python",
   "name": "python3"
  },
  "language_info": {
   "codemirror_mode": {
    "name": "ipython",
    "version": 3
   },
   "file_extension": ".py",
   "mimetype": "text/x-python",
   "name": "python",
   "nbconvert_exporter": "python",
   "pygments_lexer": "ipython3",
   "version": "3.8.10"
  },
  "orig_nbformat": 4,
  "vscode": {
   "interpreter": {
    "hash": "b32acd2af0828b4c6777c31c399f97bb23d034008d827fc2fc8b57c2557d0067"
   }
  }
 },
 "nbformat": 4,
 "nbformat_minor": 2
}
