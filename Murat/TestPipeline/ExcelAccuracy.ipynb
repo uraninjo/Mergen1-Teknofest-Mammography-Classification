{
 "cells": [
  {
   "cell_type": "code",
   "execution_count": 1,
   "metadata": {},
   "outputs": [
    {
     "name": "stdout",
     "output_type": "stream",
     "text": [
      "MEME KOMPOZİSYONU:Sütunlar arasındaki elemanların 1000.000'si eşittir.\n",
      "BIRADS KATEGORİSİ:Sütunlar arasındaki elemanların 1000.000'si eşittir.\n"
     ]
    }
   ],
   "source": [
    "import pandas as pd\n",
    "for i in [\"MEME KOMPOZİSYONU\",\"BIRADS KATEGORİSİ\"]:\n",
    "    # Gerçek değerleri tutan Excel dosyasını yükle\n",
    "    gercek_veriler = pd.read_excel('/home/uraninjo/Desktop/Çalışmalar/Comp/combined2000.xlsx',index_col=False,).sort_values(by=['HASTANO'])\n",
    "\n",
    "    # Modelin tahmin ettiği değerleri tutan Excel dosyasını yükle\n",
    "    tahmin_veriler = pd.read_excel('/home/uraninjo/Desktop/Çalışmalar/Comp/combinedMurat.xlsx',index_col=False).sort_values(by=['HASTANO'])\n",
    "\n",
    "    # Karşılaştırmak istediğiniz sütunlar\n",
    "    karsilastir_sutunlar = [i]#\tMEME KOMPOZİSYONU BIRADS KATEGORİSİ\n",
    "\n",
    "    # Belirtilen sütunların eşit olup olmadığını kontrol et\n",
    "    \n",
    "    esitlik_kontrolu = gercek_veriler[karsilastir_sutunlar].equals(tahmin_veriler[karsilastir_sutunlar])\n",
    "\n",
    "    if esitlik_kontrolu:\n",
    "        # Sütunlar eşit ise\n",
    "        print(\"Tüm sütunlar eşittir.\")\n",
    "    else:\n",
    "        # Sütunlar eşit değilse\n",
    "        esitlikler = gercek_veriler[karsilastir_sutunlar].eq(tahmin_veriler[karsilastir_sutunlar])\n",
    "        esitlik_sayisi = esitlikler.sum().sum()\n",
    "        print(\"{}:Sütunlar arasındaki elemanların {:.3f}'si eşittir.\".format(i,(esitlik_sayisi)))\n"
   ]
  },
  {
   "cell_type": "code",
   "execution_count": null,
   "metadata": {},
   "outputs": [],
   "source": []
  }
 ],
 "metadata": {
  "kernelspec": {
   "display_name": "Python 3",
   "language": "python",
   "name": "python3"
  },
  "language_info": {
   "codemirror_mode": {
    "name": "ipython",
    "version": 3
   },
   "file_extension": ".py",
   "mimetype": "text/x-python",
   "name": "python",
   "nbconvert_exporter": "python",
   "pygments_lexer": "ipython3",
   "version": "3.8.10"
  },
  "orig_nbformat": 4
 },
 "nbformat": 4,
 "nbformat_minor": 2
}
