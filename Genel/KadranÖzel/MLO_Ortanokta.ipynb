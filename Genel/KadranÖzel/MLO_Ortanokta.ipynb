{
 "cells": [
  {
   "attachments": {},
   "cell_type": "markdown",
   "metadata": {},
   "source": [
    "## MLO Görüntüleri İçin Orta Nokta Bulma\n",
    "\n",
    "Bu kod sadece CC görüntülerini hedef almıştır.\n",
    "\n",
    "Bu işlemdeki yaklaşımımız,\n",
    "\n",
    "* Segmentasyon modelinden çıkan meme ucu maskesinin orta noktasını tespit etme\n",
    "* Segmentasyondan sonra memenin çıkan en büyük kontörünü aldığımızdaki en uç noktayı bulmak\n",
    "* Pektoralin en alttaki noktasını bulmak\n",
    "\n",
    "İki işlem de kadranı belirleme için yapılmıştır. Amaç memenin orta başlangıç noktasından meme ucuna çizilen çizginin bizim için bir kadran ayırıcı görevi görmesidir."
   ]
  },
  {
   "cell_type": "code",
   "execution_count": 1,
   "metadata": {},
   "outputs": [
    {
     "name": "stdout",
     "output_type": "stream",
     "text": [
      "En sağdaki pikselin koordinatları: (1746, 1235)\n"
     ]
    },
    {
     "data": {
      "text/plain": [
       "<matplotlib.image.AxesImage at 0x7f9ddc670850>"
      ]
     },
     "execution_count": 1,
     "metadata": {},
     "output_type": "execute_result"
    },
    {
     "data": {
      "image/png": "[encoded data removed]",
      "text/plain": [
       "<Figure size 640x480 with 1 Axes>"
      ]
     },
     "metadata": {},
     "output_type": "display_data"
    }
   ],
   "source": [
    "import cv2\n",
    "import numpy as np\n",
    "import matplotlib.pyplot as plt\n",
    "\n",
    "mask = cv2.imread(f\"/home/uraninjo/Desktop/Çalışmalar/Mergen1-Teknofest/Murat/KadranÖzel/DenemelerMLO/0_combined_maskMLO.png\")\n",
    "\n",
    "white_pixels = np.where(mask == 255)\n",
    "pixels = list(zip(white_pixels[0], white_pixels[1]))\n",
    "\n",
    "# En sağdaki pikselin koordinatlarını bul\n",
    "rightmost_pixel = sorted(pixels, key=lambda x: x[1])[-1]\n",
    "\n",
    "# Koordinatları yazdır\n",
    "print(\"En sağdaki pikselin koordinatları:\", rightmost_pixel)\n",
    "\n",
    "cv2.circle(mask, (rightmost_pixel[1]-20,rightmost_pixel[0]), 5, (0, 255, 255), 100)\n",
    "plt.imshow(mask)"
   ]
  },
  {
   "cell_type": "code",
   "execution_count": 2,
   "metadata": {},
   "outputs": [],
   "source": [
    "from skimage import measure\n",
    "def get_largest_mask(mask):\n",
    "    labels_mask = measure.label(mask)\n",
    "    regions = measure.regionprops(labels_mask)\n",
    "    regions.sort(key=lambda x: x.area, reverse=True)\n",
    "    if len(regions) > 1:\n",
    "        for rg in regions[1:]:\n",
    "            labels_mask[rg.coords[:,0], rg.coords[:,1]] = 0\n",
    "    labels_mask[labels_mask!=0] = 1\n",
    "    mask = labels_mask\n",
    "    return mask "
   ]
  },
  {
   "cell_type": "code",
   "execution_count": null,
   "metadata": {},
   "outputs": [],
   "source": [
    "import numpy as np\n",
    "import matplotlib.pyplot as plt\n",
    "from PIL import Image\n",
    "import cv2\n",
    "mask = cv2.imread(f\"/home/uraninjo/Desktop/Çalışmalar/Mergen1-Teknofest/Murat/KadranÖzel/Results/hasta_no/LMLO_mask.png\")\n",
    "lmask=get_largest_mask(mask[:,:,0])\n",
    "lmask_img=np.array([lmask,lmask,lmask]).transpose(1,2,0)\n",
    "\n",
    "print(lmask_img.shape)\n",
    "white_pixels = np.where(lmask_img == 1)\n",
    "pixels = list(zip(white_pixels[0], white_pixels[1]))\n",
    "\n",
    "# En sağdaki pikselin koordinatlarını bul\n",
    "downmost_pixel = sorted(pixels, key=lambda x: x[0])[-1]\n",
    "\n",
    "# Koordinatları yazdır\n",
    "print(\"En alttaki pikselin koordinatları:\", downmost_pixel)\n",
    "\n",
    "cv2.circle(mask, (downmost_pixel[1],downmost_pixel[0]), 5, (0, 255, 255), 100)\n",
    "plt.imshow(mask)\n",
    "print((downmost_pixel[1],downmost_pixel[0]))"
   ]
  },
  {
   "cell_type": "code",
   "execution_count": 21,
   "metadata": {},
   "outputs": [],
   "source": [
    "import cv2\n",
    "import numpy as np\n",
    "import matplotlib.pyplot as plt\n",
    "\n",
    "def meme_sonPiksel(meme_mask_path):\n",
    "    mask = cv2.imread(meme_mask_path)\n",
    "    white_pixels = np.where(mask == 255)\n",
    "    pixels = list(zip(white_pixels[0], white_pixels[1]))\n",
    "\n",
    "    # En sağdaki pikselin koordinatlarını bul\n",
    "    rightmost_pixel = sorted(pixels, key=lambda x: x[1])[-1]\n",
    "\n",
    "    # Koordinatları yazdır\n",
    "    print(\"En sağdaki pikselin koordinatları:\", rightmost_pixel)\n",
    "\n",
    "    # cv2.circle(mask, (rightmost_pixel[1]-20,rightmost_pixel[0]), 5, (0, 255, 255), 100)\n",
    "    return (rightmost_pixel[1],rightmost_pixel[0])\n",
    "\n",
    "from skimage import measure\n",
    "def get_largest_mask(mask):\n",
    "    labels_mask = measure.label(mask)\n",
    "    regions = measure.regionprops(labels_mask)\n",
    "    regions.sort(key=lambda x: x.area, reverse=True)\n",
    "    if len(regions) > 1:\n",
    "        for rg in regions[1:]:\n",
    "            labels_mask[rg.coords[:,0], rg.coords[:,1]] = 0\n",
    "    labels_mask[labels_mask!=0] = 1\n",
    "    mask = labels_mask\n",
    "    return mask \n",
    "def pektoral_sonNokta(pek_mask_path):\n",
    "    mask = cv2.imread(pek_mask_path)\n",
    "    lmask=get_largest_mask(mask[:,:,0])\n",
    "    lmask_img=np.array([lmask,lmask,lmask]).transpose(1,2,0)\n",
    "\n",
    "    print(lmask_img.shape)\n",
    "    white_pixels = np.where(lmask_img == 1)\n",
    "    pixels = list(zip(white_pixels[0], white_pixels[1]))\n",
    "\n",
    "    # En sağdaki pikselin koordinatlarını bul\n",
    "    downmost_pixel = sorted(pixels, key=lambda x: x[0])[-1]\n",
    "\n",
    "    # Koordinatları yazdır\n",
    "    print(\"En alttaki pikselin koordinatları:\", downmost_pixel)\n",
    "    return (downmost_pixel[1],downmost_pixel[0])\n"
   ]
  },
  {
   "cell_type": "code",
   "execution_count": null,
   "metadata": {},
   "outputs": [],
   "source": [
    "meme_mask_path=\"/home/uraninjo/Desktop/Çalışmalar/Mergen1-Teknofest/Murat/KadranÖzel/Results/hasta_no/LMLO_meme_mask.png\"\n",
    "pek_mask_path=\"/home/uraninjo/Desktop/Çalışmalar/Mergen1-Teknofest/Murat/KadranÖzel/Results/hasta_no/LMLO_pektoral_mask.png\"\n",
    "img=cv2.imread(\"/home/uraninjo/Desktop/Çalışmalar/Mergen1-Teknofest/Murat/KadranÖzel/Results/hasta_no/LMLO.png\")\n",
    "meme_mask = cv2.imread(meme_mask_path)\n",
    "pek_mask = cv2.imread(pek_mask_path)\n",
    "_rightmost_pixel=meme_sonPiksel(meme_mask_path)\n",
    "_downmost_pixel=pektoral_sonNokta(pek_mask_path)\n",
    "\n",
    "\n",
    "meme_mask_cp=meme_mask.copy()\n",
    "\n",
    "cv2.circle(meme_mask, _rightmost_pixel, 5, (0, 255, 255), 100)\n",
    "cv2.circle(pek_mask, _downmost_pixel, 5, (0, 255, 255), 100)\n",
    "\n",
    "\n",
    "cv2.line(meme_mask, _rightmost_pixel, _downmost_pixel, (0, 255, 0), 5)\n",
    "\n",
    "cv2.line(img, _rightmost_pixel, _downmost_pixel, (0, 255, 0), 5)\n",
    "\n",
    "fig, (ax1, ax2, ax3) = plt.subplots(1, 3, figsize=(10,5))\n",
    "ax1.imshow(pek_mask, cmap='gray')\n",
    "ax1.set_title('Üst kısım')\n",
    "ax2.imshow(meme_mask, cmap='gray')\n",
    "ax2.set_title('Alt kısım')\n",
    "ax3.imshow(img, cmap='gray')\n",
    "\n",
    "plt.show()"
   ]
  }
 ],
 "metadata": {
  "kernelspec": {
   "display_name": "Python 3",
   "language": "python",
   "name": "python3"
  },
  "language_info": {
   "codemirror_mode": {
    "name": "ipython",
    "version": 3
   },
   "file_extension": ".py",
   "mimetype": "text/x-python",
   "name": "python",
   "nbconvert_exporter": "python",
   "pygments_lexer": "ipython3",
   "version": "3.8.10"
  },
  "orig_nbformat": 4
 },
 "nbformat": 4,
 "nbformat_minor": 2
}
