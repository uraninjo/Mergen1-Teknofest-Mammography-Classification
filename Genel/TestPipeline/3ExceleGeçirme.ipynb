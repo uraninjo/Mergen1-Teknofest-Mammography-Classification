{
 "cells": [
  {
   "cell_type": "code",
   "execution_count": null,
   "metadata": {},
   "outputs": [],
   "source": [
    "import os\n",
    "import pandas as pd\n",
    "from shutil import copyfile\n",
    "\n",
    "# Dosya adlarını alın\n",
    "path = \"/home/uraninjo/Desktop/Çalışmalar/Comp/SegmentasyonOutput\"\n",
    "dosya_adlari = sorted(os.listdir(path))\n",
    "df=pd.read_excel(\"/home/uraninjo/Desktop/Çalışmalar/Comp/compMurat.xlsx\")\n",
    "df"
   ]
  },
  {
   "cell_type": "code",
   "execution_count": null,
   "metadata": {},
   "outputs": [],
   "source": [
    "import numpy as np\n",
    "from collections import Counter\n",
    "\n",
    "for hno_dosya in dosya_adlari:\n",
    "    with open(f\"/home/uraninjo/Desktop/Çalışmalar/Comp/LABELS/{hno_dosya}/results.txt\", \"r\") as f:\n",
    "        l=f.readlines()\n",
    "        birads_list=[]\n",
    "        kompozisyon_list=[]\n",
    "\n",
    "        for infos in l:\n",
    "            info_l=infos.split(\" \")\n",
    "            birads_list.append(info_l[2].strip())\n",
    "            kompozisyon_list.append(info_l[3].strip())\n",
    "        max_birads=sorted(birads_list)[-1]\n",
    "\n",
    "        my_list = sorted(kompozisyon_list)\n",
    "        counted = Counter(my_list)\n",
    "        max_count = max(counted.values())\n",
    "        most_common = [k for k, v in counted.items() if v == max_count]\n",
    "        max_kompozisyon=sorted(most_common)[-1]\n",
    "\n",
    "    # print(\"kompozisyon_list: \", kompozisyon_list)\n",
    "    # print(\"birads_list: \", birads_list)\n",
    "\n",
    "    satir = df.loc[df['HASTANO'] == int(hno_dosya)]\n",
    "    satir.loc[satir.index[0], 'BIRADS KATEGORİSİ'] = max_birads\n",
    "    satir.loc[satir.index[0], 'MEME KOMPOZİSYONU'] = max_kompozisyon\n",
    "    satir.loc[satir.index[0], 'KADRAN BİLGİSİ (SAĞ)'] = np.nan\n",
    "    satir.loc[satir.index[0], 'KADRAN BİLGİSİ (SOL)'] = np.nan\n",
    "    df.loc[df['HASTANO'] == int(hno_dosya)]= satir\n",
    "df.to_excel(\"tahminler.xlsx\", index=False)"
   ]
  },
  {
   "cell_type": "code",
   "execution_count": null,
   "metadata": {},
   "outputs": [],
   "source": []
  }
 ],
 "metadata": {
  "kernelspec": {
   "display_name": "Python 3",
   "language": "python",
   "name": "python3"
  },
  "language_info": {
   "codemirror_mode": {
    "name": "ipython",
    "version": 3
   },
   "file_extension": ".py",
   "mimetype": "text/x-python",
   "name": "python",
   "nbconvert_exporter": "python",
   "pygments_lexer": "ipython3",
   "version": "3.8.10"
  },
  "orig_nbformat": 4
 },
 "nbformat": 4,
 "nbformat_minor": 2
}
