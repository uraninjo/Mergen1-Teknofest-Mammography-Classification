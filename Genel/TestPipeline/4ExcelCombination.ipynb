{
 "cells": [
  {
   "cell_type": "code",
   "execution_count": null,
   "metadata": {},
   "outputs": [],
   "source": [
    "import os\n",
    "import pandas as pd\n",
    "from shutil import copyfile\n",
    "import numpy as np\n",
    "\n",
    "df1=pd.read_excel(\"/home/uraninjo/Desktop/Çalışmalar/Comp/tahminlerZeynep.xlsx\")\n",
    "df2=pd.read_excel(\"/home/uraninjo/Desktop/Çalışmalar/Comp/combinedMurat.xlsx\")\n",
    "df1"
   ]
  },
  {
   "cell_type": "code",
   "execution_count": null,
   "metadata": {},
   "outputs": [],
   "source": [
    "import pandas as pd\n",
    "\n",
    "# Boş satırları doldurun\n",
    "for hno in df1[\"HASTANO\"]:\n",
    "    hastano2 = df2[df2[\"HASTANO\"] == hno]\n",
    "    hastano1 = df1[df1[\"HASTANO\"] == hno]\n",
    "\n",
    "    if pd.isna(hastano1[\"BIRADS KATEGORİSİ\"].iloc[0]) and not pd.isna(hastano2[\"BIRADS KATEGORİSİ\"].iloc[0]):\n",
    "        hastano1.loc[hastano1[\"BIRADS KATEGORİSİ\"].isna(), \"BIRADS KATEGORİSİ\"] = hastano2[\"BIRADS KATEGORİSİ\"].iloc[0]\n",
    "\n",
    "    if pd.isna(hastano1[\"MEME KOMPOZİSYONU\"].iloc[0]) and not pd.isna(hastano2[\"MEME KOMPOZİSYONU\"].iloc[0]):\n",
    "        hastano1.loc[hastano1[\"MEME KOMPOZİSYONU\"].isna(), \"MEME KOMPOZİSYONU\"] = hastano2[\"MEME KOMPOZİSYONU\"].iloc[0]\n",
    "\n",
    "    df1.loc[df1[\"HASTANO\"] == hno] = hastano1\n",
    "\n",
    "# Sonuçları \"sonuc.xlsx\" dosyasına yazdırın\n",
    "df1"
   ]
  },
  {
   "cell_type": "code",
   "execution_count": 3,
   "metadata": {},
   "outputs": [],
   "source": [
    "df1.to_excel(\"combined2000.xlsx\", index=False)"
   ]
  },
  {
   "cell_type": "code",
   "execution_count": null,
   "metadata": {},
   "outputs": [],
   "source": []
  }
 ],
 "metadata": {
  "kernelspec": {
   "display_name": "Python 3",
   "language": "python",
   "name": "python3"
  },
  "language_info": {
   "codemirror_mode": {
    "name": "ipython",
    "version": 3
   },
   "file_extension": ".py",
   "mimetype": "text/x-python",
   "name": "python",
   "nbconvert_exporter": "python",
   "pygments_lexer": "ipython3",
   "version": "3.8.10"
  },
  "orig_nbformat": 4
 },
 "nbformat": 4,
 "nbformat_minor": 2
}
