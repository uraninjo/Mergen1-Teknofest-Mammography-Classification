{
 "cells": [
  {
   "attachments": {},
   "cell_type": "markdown",
   "metadata": {},
   "source": [
    "## Bazı Denemelerde Boyutları Sabitleme"
   ]
  },
  {
   "cell_type": "code",
   "execution_count": 8,
   "metadata": {},
   "outputs": [
    {
     "data": {
      "text/plain": [
       "26996"
      ]
     },
     "execution_count": 8,
     "metadata": {},
     "output_type": "execute_result"
    }
   ],
   "source": [
    "import glob\n",
    "from PIL import Image\n",
    "\n",
    "# Dosyaları alacak klasör yolu\n",
    "klasor_yolu = \"/home/uraninjo/Desktop/Çalışmalar/Mergen1-Teknofest/Murat/Results/*/*.png\"\n",
    "\n",
    "# Dosyaları glob ile al\n",
    "dosya_listesi = glob.glob(klasor_yolu)\n",
    "len(dosya_listesi)"
   ]
  },
  {
   "cell_type": "code",
   "execution_count": null,
   "metadata": {},
   "outputs": [],
   "source": [
    "# Dosyaları yeniden boyutlandır ve kaydet\n",
    "import os\n",
    "try:\n",
    "    os.mkdir(\"/home/uraninjo/Desktop/Çalışmalar/Mergen1-Teknofest/Murat/Resized\")\n",
    "except:\n",
    "    print(\"Klasör zaten var\")\n",
    "\n",
    "for dosya_adi in dosya_listesi:\n",
    "    # Yeni dosya adını oluştur\n",
    "    _hno=dosya_adi.split(\"/\")[-2]\n",
    "    lname=dosya_adi.split(\"/\")[-1]\n",
    "    try:\n",
    "        os.mkdir(f\"/home/uraninjo/Desktop/Çalışmalar/Mergen1-Teknofest/Murat/Resized/{_hno}\")\n",
    "    except:\n",
    "        print(f\"Klasör zaten var:{_hno}\")\n",
    "    yeni_dosya_adi = f\"/home/uraninjo/Desktop/Çalışmalar/Mergen1-Teknofest/Murat/Resized/{_hno}/{lname}\"\n",
    "\n",
    "    # Görüntüyü yükle\n",
    "    img = Image.open(dosya_adi)\n",
    "\n",
    "    # Yeni boyutları belirle\n",
    "    yeni_boyut = (300, 600)\n",
    "\n",
    "    # Yeniden boyutlandır\n",
    "    img_yeniden_boyutlandirilmis = img.resize(yeni_boyut)\n",
    "\n",
    "    # Yeniden boyutlandırılmış görüntüyü kaydet\n",
    "    img_yeniden_boyutlandirilmis.save(yeni_dosya_adi)\n"
   ]
  },
  {
   "cell_type": "code",
   "execution_count": null,
   "metadata": {},
   "outputs": [],
   "source": []
  }
 ],
 "metadata": {
  "kernelspec": {
   "display_name": "Python 3",
   "language": "python",
   "name": "python3"
  },
  "language_info": {
   "codemirror_mode": {
    "name": "ipython",
    "version": 3
   },
   "file_extension": ".py",
   "mimetype": "text/x-python",
   "name": "python",
   "nbconvert_exporter": "python",
   "pygments_lexer": "ipython3",
   "version": "3.8.10"
  },
  "orig_nbformat": 4
 },
 "nbformat": 4,
 "nbformat_minor": 2
}
