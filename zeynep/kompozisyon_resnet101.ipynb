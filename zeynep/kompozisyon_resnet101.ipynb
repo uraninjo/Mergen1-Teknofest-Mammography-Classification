{
 "cells": [
  {
   "cell_type": "code",
   "execution_count": 1,
   "metadata": {},
   "outputs": [
    {
     "name": "stderr",
     "output_type": "stream",
     "text": [
      "c:\\Users\\Zeynep Aygün\\AppData\\Local\\Programs\\Python\\Python39\\lib\\site-packages\\tqdm\\auto.py:22: TqdmWarning: IProgress not found. Please update jupyter and ipywidgets. See https://ipywidgets.readthedocs.io/en/stable/user_install.html\n",
      "  from .autonotebook import tqdm as notebook_tqdm\n",
      "C:\\Users\\Zeynep Aygün\\AppData\\Roaming\\Python\\Python39\\site-packages\\torchvision\\io\\image.py:13: UserWarning: Failed to load image Python extension: [WinError 127] The specified procedure could not be found\n",
      "  warn(f\"Failed to load image Python extension: {e}\")\n"
     ]
    },
    {
     "name": "stdout",
     "output_type": "stream",
     "text": [
      "cuda:0\n",
      "NVIDIA GeForce RTX 3050 Ti Laptop GPU\n"
     ]
    }
   ],
   "source": [
    "import torch\n",
    "import torch.nn as nn\n",
    "import torch.optim as optim\n",
    "from torch.optim import lr_scheduler\n",
    "import numpy as np\n",
    "import torchvision\n",
    "from torchvision import datasets, models, transforms\n",
    "import io\n",
    "import matplotlib.pyplot as plt\n",
    "import time\n",
    "import os\n",
    "import copy\n",
    "from glob import glob\n",
    "from tqdm import tqdm\n",
    "import warnings\n",
    "import pandas as pd\n",
    "from sklearn.metrics import f1_score,accuracy_score,recall_score,roc_auc_score,roc_curve,confusion_matrix\n",
    "warnings.simplefilter('ignore')\n",
    "import seaborn as sns\n",
    "import matplotlib.pyplot as plt\n",
    "\n",
    "\n",
    "device = torch.device(\"cuda:0\" if torch.cuda.is_available() else \"cpu\")\n",
    "print(device)\n",
    "print(torch.cuda.get_device_name())"
   ]
  },
  {
   "cell_type": "code",
   "execution_count": 2,
   "metadata": {},
   "outputs": [
    {
     "data": {
      "text/plain": [
       "{'train': 21596, 'val': 5398}"
      ]
     },
     "execution_count": 2,
     "metadata": {},
     "output_type": "execute_result"
    }
   ],
   "source": [
    "BATCH_SIZE=2\n",
    "EPOCH=20\n",
    "LEARNING_RATE=0.001\n",
    "\n",
    "data_transforms = {\n",
    "    'train': transforms.Compose([\n",
    "        transforms.Resize((500,250)),\n",
    "        transforms.ToTensor(),\n",
    "        transforms.Normalize([0.485, 0.456, 0.406], [0.229, 0.224, 0.225])\n",
    "    ]),\n",
    "    'val': transforms.Compose([\n",
    "        transforms.Resize((500,250)),\n",
    "        transforms.ToTensor(),\n",
    "        transforms.Normalize([0.485, 0.456, 0.406], [0.229, 0.224, 0.225])\n",
    "    ])\n",
    "}\n",
    "\n",
    "data_dir = 'C:/Users/Zeynep Aygün/Desktop/teknofest_github/Mergen1-Teknofest/zeynep/data/ayrilmis'\n",
    "image_datasets = {x: datasets.ImageFolder(os.path.join(data_dir, x),\n",
    "                                        data_transforms[x])\n",
    "                    for x in ['train', 'val']}\n",
    "dataloaders = {\n",
    "    'train': torch.utils.data.DataLoader(image_datasets['train'], batch_size=BATCH_SIZE,\n",
    "                                            shuffle=True, num_workers=0),\n",
    "    'val': torch.utils.data.DataLoader(image_datasets['val'], batch_size=BATCH_SIZE,\n",
    "                                            shuffle=True, num_workers=0),\n",
    "    }\n",
    "\n",
    "dataset_sizes = {x: len(image_datasets[x]) for x in ['train', 'val']}\n",
    "class_names = image_datasets['train'].classes\n",
    "dataset_sizes"
   ]
  },
  {
   "cell_type": "code",
   "execution_count": null,
   "metadata": {},
   "outputs": [],
   "source": [
    "def imshow(inp, title=None):\n",
    "    \"\"\"Imshow for Tensor.\"\"\"\n",
    "    inp = inp.numpy().transpose((1, 2, 0))\n",
    "    mean = np.array([0.485, 0.456, 0.406])\n",
    "    std = np.array([0.229, 0.224, 0.225])\n",
    "    inp = std * inp + mean\n",
    "    inp = np.clip(inp, 0, 1)\n",
    "    plt.figure(figsize=(3,10))\n",
    "    plt.imshow(inp)\n",
    "    if title is not None:\n",
    "        plt.title(title)\n",
    "    plt.pause(0.001)  # pause a bit so that plots are updated\n",
    "\n",
    "# Get a batch of training data\n",
    "inputs, classes = next(iter(dataloaders['train']))\n",
    "\n",
    "# Make a grid from batch\n",
    "out = torchvision.utils.make_grid(inputs)\n",
    "\n",
    "imshow(out, title=[class_names[x] for x in classes])"
   ]
  },
  {
   "cell_type": "code",
   "execution_count": 4,
   "metadata": {},
   "outputs": [],
   "source": [
    "def train_model(model, criterion, optimizer, scheduler, name, num_epochs=25):\n",
    "\n",
    "    #Creating a folder to save the model performance.\n",
    "    try:\n",
    "        os.mkdir(f'modelPerformance/{name}')\n",
    "    except:\n",
    "        print('Dosya var')\n",
    "\n",
    "    since = time.time()\n",
    "\n",
    "    best_model_wts = copy.deepcopy(model.state_dict())\n",
    "    best_acc = 0.0\n",
    "\n",
    "    for epoch in range(num_epochs):\n",
    "\n",
    "        print('Epoch {}/{}'.format(epoch+1, num_epochs))\n",
    "        print('-' * 10)\n",
    "\n",
    "        # Each epoch has a training and validation phase\n",
    "        for phase in ['train', 'val']:\n",
    "            if phase == 'train':\n",
    "                model.train()  # Set model to training mode\n",
    "            else:\n",
    "                model.eval()   # Set model to evaluate mode\n",
    "\n",
    "            running_loss = 0.0\n",
    "            running_corrects = 0\n",
    "            #epochs\n",
    "            \n",
    "            epoch=int(len(image_datasets[phase])/BATCH_SIZE)\n",
    "            \n",
    "            for _ in tqdm(range(epoch)):\n",
    "                #Loading Data\n",
    "                \n",
    "                inputs, labels = next(iter(dataloaders[phase]))\n",
    "                \n",
    "                inputs = inputs.to(device)\n",
    "\n",
    "                # zero the parameter gradients\n",
    "                optimizer.zero_grad()\n",
    "\n",
    "                # forward\n",
    "                # track history if only in train\n",
    "                with torch.set_grad_enabled(phase == 'train'):\n",
    "                    outputs = model(inputs)\n",
    "                    _, preds = torch.max(outputs, 1)\n",
    "\n",
    "                    labels = labels.to(device)\n",
    "                    loss = criterion(outputs, labels)\n",
    "\n",
    "                    # backward + optimize only if in training phase\n",
    "                    if phase == 'train':\n",
    "                        loss.backward()\n",
    "                        optimizer.step()\n",
    "\n",
    "                \n",
    "                running_loss += loss.item() * inputs.size(0)\n",
    "                running_corrects += torch.sum(preds == labels.data)\n",
    "            if phase == 'train':\n",
    "                scheduler.step()\n",
    "            \n",
    "            \n",
    "            #epoch_auc= running_auc/(dataset_sizes[phase]-error)\n",
    "            epoch_loss = running_loss / dataset_sizes[phase]\n",
    "            epoch_acc = running_corrects.double() / dataset_sizes[phase]\n",
    "\n",
    "            #AUC: {:.4f} , epoch_auc\n",
    "            print('{} Loss: {:.4f} Acc: {:.4f}'.format(        \n",
    "                phase, epoch_loss, epoch_acc))\n",
    "    \n",
    "            \n",
    "            # deep copy the model\n",
    "            if phase == 'val' and epoch_acc > best_acc:\n",
    "                best_acc = epoch_acc\n",
    "                best_model_wts = copy.deepcopy(model.state_dict())\n",
    "                torch.save(model,'modelPerformance/{}/best_model_{:.4f}acc_{}epochs.h5'.format(name,epoch_acc,num_epochs))\n",
    "\n",
    "                # Calculate and plot confusion matrix\n",
    "                y_true = []\n",
    "                y_pred = []\n",
    "\n",
    "                model.eval()\n",
    "\n",
    "                with torch.no_grad():\n",
    "                    for inputs, labels in dataloaders['val']:\n",
    "                        inputs = inputs.to(device)\n",
    "                        labels = labels.to(device)\n",
    "                        outputs = model(inputs)\n",
    "                        _, preds = torch.max(outputs, 1)\n",
    "                        y_true += labels.tolist()\n",
    "                        y_pred += preds.tolist()\n",
    "\n",
    "                cm = confusion_matrix(y_true, y_pred)\n",
    "                plt.figure(figsize=(10, 8))\n",
    "                sns.heatmap(cm, annot=True, fmt='g', cmap='Blues', \n",
    "                            xticklabels=class_names, yticklabels=class_names)\n",
    "                plt.xlabel('Predicted labels')\n",
    "                plt.ylabel('True labels')\n",
    "                plt.title('Confusion matrix')\n",
    "                plt.show()\n",
    "        print()\n",
    "\n",
    "    time_elapsed = time.time() - since\n",
    "    print('Training complete in {:.0f}m {:.0f}s'.format(\n",
    "        time_elapsed // 60, time_elapsed % 60))\n",
    "    print('Best val Acc: {:4f}'.format(best_acc))\n",
    "\n",
    "    \n",
    "    with open(f'modelPerformance/{name}/'+sorted(os.listdir(f'modelPerformance/{name}/'))[-1], 'rb') as f:\n",
    "        buffer = io.BytesIO(f.read())\n",
    "    model=torch.load(buffer)\n",
    "    # load best model weights\n",
    "    model.load_state_dict(best_model_wts)\n",
    "\n",
    "    return model"
   ]
  },
  {
   "cell_type": "code",
   "execution_count": 5,
   "metadata": {},
   "outputs": [],
   "source": [
    "# A dictionary of models.\n",
    "\n",
    "modeller={\n",
    "    'resnet101':models.resnet101(pretrained=True)\n",
    "}\n",
    "try:\n",
    "    os.mkdir('./modelPerformance')\n",
    "except:\n",
    "    print('Dosyalar var')"
   ]
  },
  {
   "cell_type": "code",
   "execution_count": 6,
   "metadata": {},
   "outputs": [
    {
     "data": {
      "text/plain": [
       "2048"
      ]
     },
     "execution_count": 6,
     "metadata": {},
     "output_type": "execute_result"
    }
   ],
   "source": [
    "models.resnet101(pretrained=True).fc.in_features"
   ]
  },
  {
   "cell_type": "code",
   "execution_count": 7,
   "metadata": {},
   "outputs": [
    {
     "name": "stdout",
     "output_type": "stream",
     "text": [
      "Epoch 1/20\n",
      "----------\n"
     ]
    },
    {
     "name": "stderr",
     "output_type": "stream",
     "text": [
      "100%|██████████| 10798/10798 [31:28<00:00,  5.72it/s]\n"
     ]
    },
    {
     "name": "stdout",
     "output_type": "stream",
     "text": [
      "train Loss: 1.3469 Acc: 0.3906\n"
     ]
    },
    {
     "name": "stderr",
     "output_type": "stream",
     "text": [
      "100%|██████████| 2699/2699 [02:21<00:00, 19.07it/s]\n"
     ]
    },
    {
     "name": "stdout",
     "output_type": "stream",
     "text": [
      "val Loss: 1.3614 Acc: 0.3498\n"
     ]
    },
    {
     "data": {
      "image/png": "[encoded data removed]",
      "text/plain": [
       "<Figure size 1000x800 with 2 Axes>"
      ]
     },
     "metadata": {},
     "output_type": "display_data"
    },
    {
     "name": "stdout",
     "output_type": "stream",
     "text": [
      "\n",
      "Epoch 2/20\n",
      "----------\n"
     ]
    },
    {
     "name": "stderr",
     "output_type": "stream",
     "text": [
      "100%|██████████| 10798/10798 [30:36<00:00,  5.88it/s]\n"
     ]
    },
    {
     "name": "stdout",
     "output_type": "stream",
     "text": [
      "train Loss: 1.3142 Acc: 0.3825\n"
     ]
    },
    {
     "name": "stderr",
     "output_type": "stream",
     "text": [
      "100%|██████████| 2699/2699 [02:23<00:00, 18.78it/s]\n"
     ]
    },
    {
     "name": "stdout",
     "output_type": "stream",
     "text": [
      "val Loss: 1.2439 Acc: 0.5031\n"
     ]
    },
    {
     "data": {
      "image/png": "[encoded data removed]",
      "text/plain": [
       "<Figure size 1000x800 with 2 Axes>"
      ]
     },
     "metadata": {},
     "output_type": "display_data"
    },
    {
     "name": "stdout",
     "output_type": "stream",
     "text": [
      "\n",
      "Epoch 3/20\n",
      "----------\n"
     ]
    },
    {
     "name": "stderr",
     "output_type": "stream",
     "text": [
      "100%|██████████| 10798/10798 [29:55<00:00,  6.01it/s]\n"
     ]
    },
    {
     "name": "stdout",
     "output_type": "stream",
     "text": [
      "train Loss: 1.2594 Acc: 0.4684\n"
     ]
    },
    {
     "name": "stderr",
     "output_type": "stream",
     "text": [
      "100%|██████████| 2699/2699 [02:23<00:00, 18.85it/s]\n"
     ]
    },
    {
     "name": "stdout",
     "output_type": "stream",
     "text": [
      "val Loss: 1.2247 Acc: 0.5206\n"
     ]
    },
    {
     "data": {
      "image/png": "[encoded data removed]",
      "text/plain": [
       "<Figure size 1000x800 with 2 Axes>"
      ]
     },
     "metadata": {},
     "output_type": "display_data"
    },
    {
     "name": "stdout",
     "output_type": "stream",
     "text": [
      "\n",
      "Epoch 4/20\n",
      "----------\n"
     ]
    },
    {
     "name": "stderr",
     "output_type": "stream",
     "text": [
      "100%|██████████| 10798/10798 [31:16<00:00,  5.75it/s]\n"
     ]
    },
    {
     "name": "stdout",
     "output_type": "stream",
     "text": [
      "train Loss: 1.2192 Acc: 0.5171\n"
     ]
    },
    {
     "name": "stderr",
     "output_type": "stream",
     "text": [
      "100%|██████████| 2699/2699 [02:33<00:00, 17.63it/s]\n"
     ]
    },
    {
     "name": "stdout",
     "output_type": "stream",
     "text": [
      "val Loss: 1.2112 Acc: 0.5246\n"
     ]
    },
    {
     "data": {
      "image/png": "[encoded data removed]",
      "text/plain": [
       "<Figure size 1000x800 with 2 Axes>"
      ]
     },
     "metadata": {},
     "output_type": "display_data"
    },
    {
     "name": "stdout",
     "output_type": "stream",
     "text": [
      "\n",
      "Epoch 5/20\n",
      "----------\n"
     ]
    },
    {
     "name": "stderr",
     "output_type": "stream",
     "text": [
      "100%|██████████| 10798/10798 [31:49<00:00,  5.65it/s]\n"
     ]
    },
    {
     "name": "stdout",
     "output_type": "stream",
     "text": [
      "train Loss: 1.2077 Acc: 0.5290\n"
     ]
    },
    {
     "name": "stderr",
     "output_type": "stream",
     "text": [
      "100%|██████████| 2699/2699 [02:33<00:00, 17.58it/s]\n"
     ]
    },
    {
     "name": "stdout",
     "output_type": "stream",
     "text": [
      "val Loss: 1.2719 Acc: 0.4537\n",
      "\n",
      "Epoch 6/20\n",
      "----------\n"
     ]
    },
    {
     "name": "stderr",
     "output_type": "stream",
     "text": [
      "100%|██████████| 10798/10798 [30:08<00:00,  5.97it/s]\n"
     ]
    },
    {
     "name": "stdout",
     "output_type": "stream",
     "text": [
      "train Loss: 1.2586 Acc: 0.4743\n"
     ]
    },
    {
     "name": "stderr",
     "output_type": "stream",
     "text": [
      "100%|██████████| 2699/2699 [02:36<00:00, 17.29it/s]\n"
     ]
    },
    {
     "name": "stdout",
     "output_type": "stream",
     "text": [
      "val Loss: 1.2726 Acc: 0.4537\n",
      "\n",
      "Epoch 7/20\n",
      "----------\n"
     ]
    },
    {
     "name": "stderr",
     "output_type": "stream",
     "text": [
      "100%|██████████| 10798/10798 [30:01<00:00,  6.00it/s]\n"
     ]
    },
    {
     "name": "stdout",
     "output_type": "stream",
     "text": [
      "train Loss: 1.2559 Acc: 0.4759\n"
     ]
    },
    {
     "name": "stderr",
     "output_type": "stream",
     "text": [
      "100%|██████████| 2699/2699 [02:37<00:00, 17.17it/s]\n"
     ]
    },
    {
     "name": "stdout",
     "output_type": "stream",
     "text": [
      "val Loss: 1.2520 Acc: 0.4839\n",
      "\n",
      "Epoch 8/20\n",
      "----------\n"
     ]
    },
    {
     "name": "stderr",
     "output_type": "stream",
     "text": [
      "100%|██████████| 10798/10798 [30:01<00:00,  6.00it/s]\n"
     ]
    },
    {
     "name": "stdout",
     "output_type": "stream",
     "text": [
      "train Loss: 1.2530 Acc: 0.4788\n"
     ]
    },
    {
     "name": "stderr",
     "output_type": "stream",
     "text": [
      "100%|██████████| 2699/2699 [02:37<00:00, 17.10it/s]\n"
     ]
    },
    {
     "name": "stdout",
     "output_type": "stream",
     "text": [
      "val Loss: 1.2749 Acc: 0.4537\n",
      "\n",
      "Epoch 9/20\n",
      "----------\n"
     ]
    },
    {
     "name": "stderr",
     "output_type": "stream",
     "text": [
      "100%|██████████| 10798/10798 [29:56<00:00,  6.01it/s]\n"
     ]
    },
    {
     "name": "stdout",
     "output_type": "stream",
     "text": [
      "train Loss: 1.2495 Acc: 0.4826\n"
     ]
    },
    {
     "name": "stderr",
     "output_type": "stream",
     "text": [
      "100%|██████████| 2699/2699 [02:21<00:00, 19.05it/s]\n"
     ]
    },
    {
     "name": "stdout",
     "output_type": "stream",
     "text": [
      "val Loss: 1.2455 Acc: 0.4863\n",
      "\n",
      "Epoch 10/20\n",
      "----------\n"
     ]
    },
    {
     "name": "stderr",
     "output_type": "stream",
     "text": [
      "100%|██████████| 10798/10798 [30:33<00:00,  5.89it/s]\n"
     ]
    },
    {
     "name": "stdout",
     "output_type": "stream",
     "text": [
      "train Loss: 1.2486 Acc: 0.4846\n"
     ]
    },
    {
     "name": "stderr",
     "output_type": "stream",
     "text": [
      "100%|██████████| 2699/2699 [02:20<00:00, 19.17it/s]\n"
     ]
    },
    {
     "name": "stdout",
     "output_type": "stream",
     "text": [
      "val Loss: 1.2514 Acc: 0.4809\n",
      "\n",
      "Epoch 11/20\n",
      "----------\n"
     ]
    },
    {
     "name": "stderr",
     "output_type": "stream",
     "text": [
      "100%|██████████| 10798/10798 [30:25<00:00,  5.91it/s]\n"
     ]
    },
    {
     "name": "stdout",
     "output_type": "stream",
     "text": [
      "train Loss: 1.2421 Acc: 0.4921\n"
     ]
    },
    {
     "name": "stderr",
     "output_type": "stream",
     "text": [
      "100%|██████████| 2699/2699 [02:22<00:00, 18.93it/s]\n"
     ]
    },
    {
     "name": "stdout",
     "output_type": "stream",
     "text": [
      "val Loss: 1.2558 Acc: 0.4744\n",
      "\n",
      "Epoch 12/20\n",
      "----------\n"
     ]
    },
    {
     "name": "stderr",
     "output_type": "stream",
     "text": [
      "100%|██████████| 10798/10798 [30:07<00:00,  5.97it/s]\n"
     ]
    },
    {
     "name": "stdout",
     "output_type": "stream",
     "text": [
      "train Loss: 1.2449 Acc: 0.4891\n"
     ]
    },
    {
     "name": "stderr",
     "output_type": "stream",
     "text": [
      "100%|██████████| 2699/2699 [02:35<00:00, 17.35it/s]\n"
     ]
    },
    {
     "name": "stdout",
     "output_type": "stream",
     "text": [
      "val Loss: 1.2403 Acc: 0.4950\n",
      "\n",
      "Epoch 13/20\n",
      "----------\n"
     ]
    },
    {
     "name": "stderr",
     "output_type": "stream",
     "text": [
      "100%|██████████| 10798/10798 [29:41<00:00,  6.06it/s]\n"
     ]
    },
    {
     "name": "stdout",
     "output_type": "stream",
     "text": [
      "train Loss: 1.2439 Acc: 0.4904\n"
     ]
    },
    {
     "name": "stderr",
     "output_type": "stream",
     "text": [
      "100%|██████████| 2699/2699 [02:22<00:00, 18.93it/s]\n"
     ]
    },
    {
     "name": "stdout",
     "output_type": "stream",
     "text": [
      "val Loss: 1.2795 Acc: 0.4498\n",
      "\n",
      "Epoch 14/20\n",
      "----------\n"
     ]
    },
    {
     "name": "stderr",
     "output_type": "stream",
     "text": [
      "100%|██████████| 10798/10798 [30:18<00:00,  5.94it/s]\n"
     ]
    },
    {
     "name": "stdout",
     "output_type": "stream",
     "text": [
      "train Loss: 1.2442 Acc: 0.4895\n"
     ]
    },
    {
     "name": "stderr",
     "output_type": "stream",
     "text": [
      "100%|██████████| 2699/2699 [02:22<00:00, 18.89it/s]\n"
     ]
    },
    {
     "name": "stdout",
     "output_type": "stream",
     "text": [
      "val Loss: 1.2367 Acc: 0.4993\n",
      "\n",
      "Epoch 15/20\n",
      "----------\n"
     ]
    },
    {
     "name": "stderr",
     "output_type": "stream",
     "text": [
      "100%|██████████| 10798/10798 [29:42<00:00,  6.06it/s]\n"
     ]
    },
    {
     "name": "stdout",
     "output_type": "stream",
     "text": [
      "train Loss: 1.2400 Acc: 0.4936\n"
     ]
    },
    {
     "name": "stderr",
     "output_type": "stream",
     "text": [
      "100%|██████████| 2699/2699 [02:22<00:00, 18.89it/s]\n"
     ]
    },
    {
     "name": "stdout",
     "output_type": "stream",
     "text": [
      "val Loss: 1.2706 Acc: 0.4618\n",
      "\n",
      "Epoch 16/20\n",
      "----------\n"
     ]
    },
    {
     "name": "stderr",
     "output_type": "stream",
     "text": [
      "100%|██████████| 10798/10798 [29:47<00:00,  6.04it/s]\n"
     ]
    },
    {
     "name": "stdout",
     "output_type": "stream",
     "text": [
      "train Loss: 1.2396 Acc: 0.4956\n"
     ]
    },
    {
     "name": "stderr",
     "output_type": "stream",
     "text": [
      "100%|██████████| 2699/2699 [02:37<00:00, 17.15it/s]\n"
     ]
    },
    {
     "name": "stdout",
     "output_type": "stream",
     "text": [
      "val Loss: 1.2481 Acc: 0.4870\n",
      "\n",
      "Epoch 17/20\n",
      "----------\n"
     ]
    },
    {
     "name": "stderr",
     "output_type": "stream",
     "text": [
      "100%|██████████| 10798/10798 [29:39<00:00,  6.07it/s]\n"
     ]
    },
    {
     "name": "stdout",
     "output_type": "stream",
     "text": [
      "train Loss: 1.2407 Acc: 0.4948\n"
     ]
    },
    {
     "name": "stderr",
     "output_type": "stream",
     "text": [
      "100%|██████████| 2699/2699 [02:21<00:00, 19.01it/s]\n"
     ]
    },
    {
     "name": "stdout",
     "output_type": "stream",
     "text": [
      "val Loss: 1.2714 Acc: 0.4591\n",
      "\n",
      "Epoch 18/20\n",
      "----------\n"
     ]
    },
    {
     "name": "stderr",
     "output_type": "stream",
     "text": [
      "100%|██████████| 10798/10798 [29:39<00:00,  6.07it/s]\n"
     ]
    },
    {
     "name": "stdout",
     "output_type": "stream",
     "text": [
      "train Loss: 1.2412 Acc: 0.4931\n"
     ]
    },
    {
     "name": "stderr",
     "output_type": "stream",
     "text": [
      "100%|██████████| 2699/2699 [02:21<00:00, 19.03it/s]\n"
     ]
    },
    {
     "name": "stdout",
     "output_type": "stream",
     "text": [
      "val Loss: 1.2341 Acc: 0.5054\n",
      "\n",
      "Epoch 19/20\n",
      "----------\n"
     ]
    },
    {
     "name": "stderr",
     "output_type": "stream",
     "text": [
      "100%|██████████| 10798/10798 [29:39<00:00,  6.07it/s]\n"
     ]
    },
    {
     "name": "stdout",
     "output_type": "stream",
     "text": [
      "train Loss: 1.2372 Acc: 0.4958\n"
     ]
    },
    {
     "name": "stderr",
     "output_type": "stream",
     "text": [
      "100%|██████████| 2699/2699 [02:37<00:00, 17.18it/s]\n"
     ]
    },
    {
     "name": "stdout",
     "output_type": "stream",
     "text": [
      "val Loss: 1.2305 Acc: 0.5100\n",
      "\n",
      "Epoch 20/20\n",
      "----------\n"
     ]
    },
    {
     "name": "stderr",
     "output_type": "stream",
     "text": [
      "100%|██████████| 10798/10798 [29:49<00:00,  6.03it/s]\n"
     ]
    },
    {
     "name": "stdout",
     "output_type": "stream",
     "text": [
      "train Loss: 1.2421 Acc: 0.4926\n"
     ]
    },
    {
     "name": "stderr",
     "output_type": "stream",
     "text": [
      "100%|██████████| 2699/2699 [02:21<00:00, 19.04it/s]\n"
     ]
    },
    {
     "name": "stdout",
     "output_type": "stream",
     "text": [
      "val Loss: 1.2678 Acc: 0.4607\n",
      "\n",
      "Training complete in 662m 57s\n",
      "Best val Acc: 0.524639\n"
     ]
    }
   ],
   "source": [
    "for name,model in modeller.items(): \n",
    "    model_ft = model\n",
    "    #model_ft=torch.load('C:/Users/Zeynep Aygün/Desktop/TEKNOFEST/yen/modelPerformance/vit/best_model_0.7244acc_20epochs.h5')\n",
    "    \n",
    "    \"\"\"\n",
    "    num_ftrs = model_ft.fc.in_features\n",
    "    model_ft.fc =nn.Sequential(nn.Linear(num_ftrs, len(class_names)), nn.Softmax())\"\"\"\n",
    "\n",
    "    \"\"\" num_ftrs=model.heads[-1].in_features\n",
    "    model_ft.heads[-1]=nn.Sequential(nn.Linear(num_ftrs, len(class_names)), nn.Softmax())\"\"\"\n",
    "    \n",
    "    num_ftrs=model_ft.fc.in_features\n",
    "    model_ft.fc =nn.Sequential(nn.Linear(num_ftrs, len(class_names)), nn.Softmax())\n",
    "    \n",
    "    model_ft = model_ft.to(device)\n",
    "\n",
    "    criterion = nn.CrossEntropyLoss()\n",
    "\n",
    "    # Observe that all parameters are being optimized\n",
    "    #optimizer_ft = optim.SGD(model_ft.parameters(), lr=LEARNING_RATE, momentum=0.9)\n",
    "    optimizer_ft = optim.Adam(model_ft.parameters(), lr=LEARNING_RATE)\n",
    "\n",
    "    # Decay LR by a factor of 0.1 every 7 epochs\n",
    "    exp_lr_scheduler = lr_scheduler.StepLR(optimizer_ft, step_size=5, gamma=0.0001)\n",
    "\n",
    "    # TRAINING\n",
    "    model_ft = train_model(model_ft, criterion, optimizer_ft, exp_lr_scheduler, name=name,\n",
    "                            num_epochs=EPOCH)"
   ]
  },
  {
   "cell_type": "code",
   "execution_count": 8,
   "metadata": {},
   "outputs": [],
   "source": [
    "import torch\n",
    "import matplotlib\n",
    "import numpy as np\n",
    "import seaborn as sns\n",
    "from itertools import cycle\n",
    "import matplotlib.pyplot as plt\n",
    "from sklearn.metrics import roc_curve\n",
    "from sklearn.metrics import roc_auc_score\n",
    "from sklearn.metrics import confusion_matrix\n",
    "from sklearn.metrics import cohen_kappa_score\n",
    "from sklearn.metrics import classification_report\n",
    "\n",
    "class get_metric():\n",
    "\n",
    "    def get_accuracy_graph(epochs, train_acc, val_acc):  # draw validation and train accuracy graphs\n",
    "        plt.plot(epochs, train_acc, color='#006BA4')\n",
    "        plt.plot(epochs, val_acc, color='#FF800E')\n",
    "        plt.grid(b=True, which='major', color='lightgray')\n",
    "        plt.grid(b=True, which='minor', color='lightgray')\n",
    "        plt.xticks(np.arange(0, 45, 5))\n",
    "        plt.yticks(np.arange(0.5, 1, 0.05))\n",
    "        plt.rcParams['figure.figsize'] = (8, 6)\n",
    "        plt.rcParams['figure.dpi'] = 600\n",
    "        plt.xlabel(\"Number of Epochs\")\n",
    "        plt.ylabel(\"Accuracy\")\n",
    "        plt.title(\"Training Accuracy vs Validation Accuracy\")\n",
    "        plt.legend(['Training Acc.', 'Validation Acc.'], loc='lower right')\n",
    "        plt.show()\n",
    "\n",
    "    def get_loss_graph(epochs, train_losses, val_losses):  # draw validation and train loss graphs\n",
    "        matplotlib.rcdefaults()\n",
    "        plt.plot(epochs, train_losses, color='#006BA4')\n",
    "        plt.plot(epochs, val_losses, color='#FF800E')\n",
    "        plt.grid(b=True, which='major', color='lightgray')\n",
    "        plt.grid(b=True, which='minor', color='lightgray')\n",
    "        plt.xticks(np.arange(0, 45, 5))\n",
    "        plt.yticks(np.arange(0, 1.2, 0.2))\n",
    "        plt.rcParams['figure.dpi'] = 600\n",
    "        plt.xlabel(\"Number of Epochs\")\n",
    "        plt.ylabel(\"Loss\")\n",
    "        plt.title(\"Training Loss vs Validation Loss\")\n",
    "        plt.legend(['Training Loss', 'Validation Loss'], loc='lower right')\n",
    "        plt.show()\n",
    "\n",
    "    def test_label_predictions(model, device, test_loader):  # calculate outputs on test dataset for get metrics\n",
    "        model.eval()\n",
    "        actuals = []\n",
    "        predictions = []\n",
    "        with torch.no_grad():\n",
    "            for data, target in test_loader:\n",
    "                data, target = data.to(device), target.to(device)\n",
    "                model.to(device)\n",
    "                output = model(data)\n",
    "                prediction = output.argmax(dim=1, keepdim=True)\n",
    "                actuals.extend(target.view_as(prediction))\n",
    "                predictions.extend(prediction)\n",
    "        return [i.item() for i in actuals], [i.item() for i in predictions]\n",
    "    \n",
    "    def test_label_predictions_el2(model_0,model_1,model_2,model_3, device, test_loader):\n",
    "    \n",
    "        actuals = []\n",
    "        predictions = []\n",
    "\n",
    "        with torch.no_grad():\n",
    "\n",
    "            for data, target in test_loader:\n",
    "                data, target = data.to(device), target.to(device)\n",
    "\n",
    "                outputs_0 = model_0(data).cuda().cpu()\n",
    "                _, predicted_0 =torch.max(outputs_0.data, 1) \n",
    "\n",
    "                outputs_1 = model_1(data)\n",
    "                _, predicted_1 =torch.max(outputs_1.data, 1) \n",
    "\n",
    "                outputs_2 = model_2(data)\n",
    "                _, predicted_2 =torch.max(outputs_2.data, 1)\n",
    "\n",
    "                outputs_3 = model_3(data)\n",
    "                _, predicted_3 =torch.max(outputs_3.data, 1)\n",
    "\n",
    "                final_pred=predicted_1\n",
    "                size=final_pred.size()\n",
    "\n",
    "                for i in range(0,(size[0])):   \n",
    "                    a=0              \n",
    "                    if predicted_2[i].item()==0 and predicted_3[i].item()==0:\n",
    "\n",
    "                        if predicted_1[i].item()==1:\n",
    "                            final_pred[i]=1\n",
    "\n",
    "                        if predicted_1[i].item()==0:\n",
    "                            final_pred[i]=0\n",
    "                        a+=1\n",
    "\n",
    "                    if (predicted_0[i].item()==1 and predicted_1[i].item()==1) :\n",
    "\n",
    "                        a+=1   \n",
    "                        if predicted_3[i].item()==0:\n",
    "                            final_pred[i]=0 \n",
    "\n",
    "                        if predicted_3[i].item()!=0:\n",
    "                            final_pred[i]=1                    \n",
    "                    if a==0:                   \n",
    "                        final_pred[i]=predicted_2[i] \n",
    "                actuals.extend(target.view_as(final_pred))\n",
    "                predictions.extend(final_pred)\n",
    "        return [i.item() for i in actuals], [i.item() for i in predictions]\n",
    "\n",
    "    def test_model(model ,device, test_loader):\n",
    "        correct = 0\n",
    "        total = 0\n",
    "        with torch.no_grad():\n",
    "            for data in test_loader:\n",
    "                images, labels = data[0].to(device), data[1].to(device)\n",
    "                outputs = model(images)\n",
    "                _, predicted = torch.max(outputs.data, 1)\n",
    "                total += labels.size(0)\n",
    "                correct += (predicted == labels).sum().item()\n",
    "        print('Correct Prediction: {:d}  Total Images: {:d}'.format(correct, total))\n",
    "        print('Test Accuracy = {:f}'.format(correct / total))\n",
    "    \n",
    "    def test_model_el2(model_0,model_1,model_2,model_3,device, test_loader):\n",
    "        \n",
    "        correct = 0\n",
    "        total = 0\n",
    "\n",
    "        with torch.no_grad():\n",
    "            for data in test_loader:\n",
    "\n",
    "                images, labels = data[0].to(device), data[1].to(device)\n",
    "\n",
    "                outputs_0 = model_0(images)\n",
    "                _, predicted_0 =torch.max(outputs_0.data, 1) \n",
    "\n",
    "                outputs_1 = model_1(images)\n",
    "                _, predicted_1 =torch.max(outputs_1.data, 1) \n",
    "\n",
    "                outputs_2 = model_2(images)\n",
    "                _, predicted_2 =torch.max(outputs_2.data, 1)\n",
    "\n",
    "                outputs_3 = model_3(images)\n",
    "                _, predicted_3 =torch.max(outputs_3.data, 1)\n",
    "\n",
    "                final_pred=predicted_1\n",
    "                size=final_pred.size()\n",
    "\n",
    "                for i in range(0,(size[0])):   \n",
    "                    a=0              \n",
    "                    if predicted_2[i].item()==0 and predicted_3[i].item()==0:\n",
    "\n",
    "                        if predicted_1[i].item()==1:\n",
    "                            final_pred[i]=1\n",
    "\n",
    "                        if predicted_1[i].item()==0:\n",
    "                            final_pred[i]=0\n",
    "                        a+=1\n",
    "\n",
    "                    if (predicted_0[i].item()==1 and predicted_1[i].item()==1):\n",
    "\n",
    "                        a+=1\n",
    "\n",
    "                        if predicted_3[i].item()==0:\n",
    "                            final_pred[i]=0                        \n",
    "                        if predicted_3[i].item()!=0:\n",
    "                            final_pred[i]=1\n",
    "                    if a==0:                   \n",
    "                        final_pred[i]=predicted_2[i]\n",
    "\n",
    "                total += labels.size(0)\n",
    "                correct += (final_pred == labels).sum().item()\n",
    "        print('Correct Prediction: {:d}  Total Images: {:d}'.format(correct, total))\n",
    "        print('Test Accuracy = {:f}'.format(correct / total))\n",
    "\n",
    "    def get_classification_report(truth, predict):  # create classification report for each class with scikit-learn library\n",
    "        print('Classification Report :\\n', classification_report(truth, predict))\n",
    "\n",
    "    def get_confusion_matrix(actuals, predictions):  # create confusion matrix for each class with scikit-learn library\n",
    "        matplotlib.rcdefaults()\n",
    "        print('Confusion matrix:\\n',confusion_matrix(actuals, predictions))\n",
    "        cf_matrix=confusion_matrix(actuals, predictions)\n",
    "        sns.heatmap(cf_matrix, annot=True,fmt='g', cmap='Blues')\n",
    "\n",
    "    def get_cohen_kappa(actuals, predictions):  # get cohen kapa score for   determine model performance\n",
    "        cps = cohen_kappa_score(actuals, predictions)\n",
    "        print('Kappa Score of this model:\\n', cps)\n",
    "\n",
    "    def test_class_probabilities(model, device, test_loader, which_class):\n",
    "        \n",
    "        truths = []\n",
    "        probabilities = []\n",
    "        with torch.no_grad():\n",
    "            for data, target in test_loader:\n",
    "                data, target = data.to(device), target.to(device)\n",
    "                output = model(data).cuda().cpu()\n",
    "                prediction = output.argmax(dim=1, keepdim=True)\n",
    "                truths.extend(target.view_as(prediction) == which_class)\n",
    "                probabilities.extend(np.exp(output[:, which_class]))\n",
    "        return [i.item() for i in truths], [i.item() for i in probabilities]\n",
    "    def test_class_probabilities_el2(model_0,model_1,model_2,model_3, device, test_loader, which_class):\n",
    "    \n",
    "        truths = []\n",
    "        probabilities = []\n",
    "\n",
    "        with torch.no_grad():\n",
    "            for data, target in test_loader:\n",
    "\n",
    "                data, target = data.to(device), target.to(device)\n",
    "\n",
    "                outputs_0 = model_0(data)\n",
    "                _, predicted_0 =torch.max(outputs_0.data, 1) \n",
    "\n",
    "                outputs_1 = model_1(data)\n",
    "                _, predicted_1 =torch.max(outputs_1.data, 1) \n",
    "\n",
    "                outputs_2 = model_2(data)\n",
    "                _, predicted_2 =torch.max(outputs_2.data, 1)\n",
    "\n",
    "                outputs_3 = model_3(data)\n",
    "                _, predicted_3 =torch.max(outputs_3.data, 1)\n",
    "\n",
    "                final_pred=predicted_1\n",
    "                out=outputs_1\n",
    "                size=final_pred.size()\n",
    "\n",
    "                for i in range(0,(size[0])):   \n",
    "                    a=0              \n",
    "                    if predicted_2[i].item()==0 and predicted_3[i].item()==0:\n",
    "\n",
    "                        if predicted_1[i].item()==1:\n",
    "                            #final_pred[i]=1\n",
    "                            out[i]=outputs_1[i]\n",
    "\n",
    "                        if predicted_1[i].item()==0:\n",
    "                            final_pred[i]=0\n",
    "                            out[i]=outputs_1[i]\n",
    "                        a+=1\n",
    "\n",
    "                    if (predicted_0[i].item()==1 and predicted_1[i].item()==1):\n",
    "\n",
    "                        a+=1\n",
    "\n",
    "                        if predicted_3[i].item()==0:\n",
    "                            #final_pred[i]=0\n",
    "                            out[i]=outputs_3[i]\n",
    "\n",
    "                        if predicted_3[i].item()!=0:\n",
    "                            #final_pred[i]=1\n",
    "                            out[i]=outputs_3[i]\n",
    "                    if a==0:                   \n",
    "                        #final_pred[i]=predicted_2[i]\n",
    "                        out[i]=outputs_2[i]\n",
    "                prediction = out.argmax(dim=1, keepdim=True)\n",
    "                truths.extend(target.view_as(prediction) == which_class)\n",
    "                probabilities.extend(np.exp(out.cuda().cpu()[:, which_class]))\n",
    "        return [i.item() for i in truths], [i.item() for i in probabilities]\n",
    "    \n",
    "    def get_roc_curves_el2(model_0,model_1,model_2,model_3, device, data):  # draw Roc curves and calculate auc score for each class\n",
    "        fpr = dict()\n",
    "        tpr = dict()\n",
    "        roc_auc = dict()\n",
    "\n",
    "        actuals, class_probabilities = get_metric.test_class_probabilities_el2(model_0,model_1,model_2,model_3, device, data, 0)\n",
    "        fpr[0], tpr[0], _ = roc_curve(actuals, class_probabilities)\n",
    "        roc_auc[0] = roc_auc_score(actuals, class_probabilities)\n",
    "\n",
    "        actuals, class_probabilities = get_metric.test_class_probabilities_el2(model_0,model_1,model_2,model_3, device, data, 1)\n",
    "        fpr[1], tpr[1], _ = roc_curve(actuals, class_probabilities)\n",
    "        roc_auc[1] = roc_auc_score(actuals, class_probabilities)\n",
    "\n",
    "        print(\"Auc Score For Each Class: \", roc_auc)\n",
    "\n",
    "        matplotlib.rcdefaults()\n",
    "        plt.figure()\n",
    "        colors = cycle(['aqua', 'darkorange', 'cornflowerblue'])\n",
    "        for i, color in zip(range(2), colors):\n",
    "            plt.plot(fpr[i], tpr[i], color=color, lw=1,\n",
    "            label='ROC curve of class {0} (area = {1:0.4f})'\n",
    "            ''.format(i, roc_auc[i]))\n",
    "        plt.plot([0, 1], [0, 1], 'k--', lw=1)\n",
    "        plt.xlim([0.0, 1.0])\n",
    "        plt.ylim([0.0, 1.05])\n",
    "        plt.xlabel('False Positive Rate')\n",
    "        plt.ylabel('True Positive Rate')\n",
    "        plt.legend(loc=\"lower right\")\n",
    "        plt.show()\n",
    "\n",
    "    def get_roc_curves(model, device, data):  # draw Roc curves and calculate auc score for each class\n",
    "        fpr = dict()\n",
    "        tpr = dict()\n",
    "        roc_auc = dict()\n",
    "\n",
    "        actuals, class_probabilities = get_metric.test_class_probabilities(model, device, data, 0)\n",
    "        fpr[0], tpr[0], _ = roc_curve(actuals, class_probabilities)\n",
    "        roc_auc[0] = roc_auc_score(actuals, class_probabilities)\n",
    "\n",
    "        actuals, class_probabilities = get_metric.test_class_probabilities(model, device, data, 1)\n",
    "        fpr[1], tpr[1], _ = roc_curve(actuals, class_probabilities)\n",
    "        roc_auc[1] = roc_auc_score(actuals, class_probabilities)\n",
    "\n",
    "        actuals, class_probabilities = get_metric.test_class_probabilities(model, device, data, 2)\n",
    "        fpr[2], tpr[2], _ = roc_curve(actuals, class_probabilities)\n",
    "        roc_auc[2] = roc_auc_score(actuals, class_probabilities)\n",
    "\n",
    "        actuals, class_probabilities = get_metric.test_class_probabilities(model, device, data, 3)\n",
    "        fpr[3], tpr[3], _ = roc_curve(actuals, class_probabilities)\n",
    "        roc_auc[3] = roc_auc_score(actuals, class_probabilities)\n",
    "\n",
    "        print(\"Auc Score For Each Class: \", roc_auc)\n",
    "\n",
    "        matplotlib.rcdefaults()\n",
    "        plt.figure()\n",
    "        colors = cycle(['aqua', 'darkorange', 'cornflowerblue'])\n",
    "        for i, color in zip(range(2), colors):\n",
    "            plt.plot(fpr[i], tpr[i], color=color, lw=1,\n",
    "                label='ROC curve of class {0} (area = {1:0.4f})'\n",
    "                    ''.format(i, roc_auc[i]))\n",
    "        plt.plot([0, 1], [0, 1], 'k--', lw=1)\n",
    "        plt.xlim([0.0, 1.0])\n",
    "        plt.ylim([0.0, 1.05])\n",
    "        plt.xlabel('False Positive Rate')\n",
    "        plt.ylabel('True Positive Rate')\n",
    "        plt.legend(loc=\"lower right\")\n",
    "        plt.show()\n"
   ]
  },
  {
   "cell_type": "code",
   "execution_count": 10,
   "metadata": {},
   "outputs": [
    {
     "name": "stdout",
     "output_type": "stream",
     "text": [
      "\n",
      "resnet101\n",
      "-----------------\n",
      "F1 Score: 0.0 0.6669428334714168 0.5693628558517849 0.0\n",
      "Recall: 0.0 0.8402922755741128 0.6494845360824743 0.0\n",
      "Precision: 0.0 0.5528846153846154 0.5068382944489139 0.0\n",
      "\n",
      "\n",
      "Classification Report :\n",
      "               precision    recall  f1-score   support\n",
      "\n",
      "           0       0.00      0.00      0.00       596\n",
      "           1       0.55      0.84      0.67      1916\n",
      "           2       0.51      0.65      0.57      1940\n",
      "           3       0.00      0.00      0.00       946\n",
      "\n",
      "    accuracy                           0.53      5398\n",
      "   macro avg       0.26      0.37      0.31      5398\n",
      "weighted avg       0.38      0.53      0.44      5398\n",
      "\n",
      "Correct Prediction: 2870  Total Images: 5398\n",
      "Test Accuracy = 0.531678\n",
      "Kappa Score of this model:\n",
      " 0.27166851371774337\n",
      "\n",
      "\n",
      "Confusion matrix:\n",
      " [[   0  518   78    0]\n",
      " [   0 1610  306    0]\n",
      " [   0  680 1260    0]\n",
      " [   0  104  842    0]]\n",
      "\n",
      "\n"
     ]
    },
    {
     "data": {
      "image/png": "[encoded data removed]",
      "text/plain": [
       "<Figure size 640x480 with 2 Axes>"
      ]
     },
     "metadata": {},
     "output_type": "display_data"
    }
   ],
   "source": [
    "from sklearn.metrics import f1_score,accuracy_score,recall_score,roc_auc_score,roc_curve,confusion_matrix,precision_score,recall_score\n",
    "print('\\n'+'resnet101'+'\\n-----------------')  \n",
    "model_ft=torch.load(\"C:/Users/Zeynep Aygün/Desktop/teknofest_github/Mergen1-Teknofest/zeynep/modelPerformance/resnet101/best_model_0.5246acc_20epochs.h5\")\n",
    "phase='val'\n",
    "actuals, predictions = get_metric.test_label_predictions(model_ft, device, dataloaders[phase])\n",
    "f1=f1_score(predictions,actuals,average=None)\n",
    "recall=recall_score(actuals,predictions,average=None)\n",
    "precision=precision_score(actuals,predictions,average=None)\n",
    "print(f'F1 Score: {f1[0]} {f1[1]} {f1[2]} {f1[3]}')\n",
    "print(f'Recall: {recall[0]} {recall[1]} {recall[2]} {recall[3]}') \n",
    "print(f'Precision: {precision[0]} {precision[1]} {precision[2]} {precision[3]}')\n",
    "print('\\n')\n",
    "get_metric.get_classification_report(actuals, predictions)\n",
    "get_metric.test_model(model_ft,device,dataloaders[phase])\n",
    "get_metric.get_cohen_kappa(actuals, predictions)\n",
    "print('\\n')\n",
    "get_metric.get_confusion_matrix(actuals, predictions)\n",
    "print('\\n')\n",
    "#get_metric.get_roc_curves(model_ft, device,  dataloaders[phase])"
   ]
  },
  {
   "cell_type": "code",
   "execution_count": null,
   "metadata": {},
   "outputs": [],
   "source": []
  }
 ],
 "metadata": {
  "kernelspec": {
   "display_name": "Python 3",
   "language": "python",
   "name": "python3"
  },
  "language_info": {
   "codemirror_mode": {
    "name": "ipython",
    "version": 3
   },
   "file_extension": ".py",
   "mimetype": "text/x-python",
   "name": "python",
   "nbconvert_exporter": "python",
   "pygments_lexer": "ipython3",
   "version": "3.9.12"
  },
  "orig_nbformat": 4
 },
 "nbformat": 4,
 "nbformat_minor": 2
}
